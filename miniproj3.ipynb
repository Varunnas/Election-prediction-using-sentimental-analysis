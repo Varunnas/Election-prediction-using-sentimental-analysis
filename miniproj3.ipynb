{
  "nbformat": 4,
  "nbformat_minor": 0,
  "metadata": {
    "colab": {
      "provenance": []
    },
    "kernelspec": {
      "name": "python3",
      "display_name": "Python 3"
    },
    "language_info": {
      "name": "python"
    }
  },
  "cells": [
    {
      "cell_type": "markdown",
      "source": [
        "**IMPORTING NECESSARY LIBRARIES**"
      ],
      "metadata": {
        "id": "VNEgdbo002IT"
      }
    },
    {
      "cell_type": "code",
      "source": [
        "!pip install preprocessor"
      ],
      "metadata": {
        "colab": {
          "base_uri": "https://localhost:8080/"
        },
        "id": "K-T-FJaB2BTu",
        "outputId": "db7ea880-6c78-4210-fb35-bb75e6508197"
      },
      "execution_count": 128,
      "outputs": [
        {
          "output_type": "stream",
          "name": "stdout",
          "text": [
            "Requirement already satisfied: preprocessor in /usr/local/lib/python3.11/dist-packages (1.1.3)\n"
          ]
        }
      ]
    },
    {
      "cell_type": "code",
      "source": [
        "!pip install tensorflow\n"
      ],
      "metadata": {
        "colab": {
          "base_uri": "https://localhost:8080/"
        },
        "id": "EiGtH_0V2Ph1",
        "outputId": "73ab6958-5a3b-4952-8b9b-c6a70e376695"
      },
      "execution_count": 129,
      "outputs": [
        {
          "output_type": "stream",
          "name": "stdout",
          "text": [
            "Requirement already satisfied: tensorflow in /usr/local/lib/python3.11/dist-packages (2.18.0)\n",
            "Requirement already satisfied: absl-py>=1.0.0 in /usr/local/lib/python3.11/dist-packages (from tensorflow) (1.4.0)\n",
            "Requirement already satisfied: astunparse>=1.6.0 in /usr/local/lib/python3.11/dist-packages (from tensorflow) (1.6.3)\n",
            "Requirement already satisfied: flatbuffers>=24.3.25 in /usr/local/lib/python3.11/dist-packages (from tensorflow) (25.2.10)\n",
            "Requirement already satisfied: gast!=0.5.0,!=0.5.1,!=0.5.2,>=0.2.1 in /usr/local/lib/python3.11/dist-packages (from tensorflow) (0.6.0)\n",
            "Requirement already satisfied: google-pasta>=0.1.1 in /usr/local/lib/python3.11/dist-packages (from tensorflow) (0.2.0)\n",
            "Requirement already satisfied: libclang>=13.0.0 in /usr/local/lib/python3.11/dist-packages (from tensorflow) (18.1.1)\n",
            "Requirement already satisfied: opt-einsum>=2.3.2 in /usr/local/lib/python3.11/dist-packages (from tensorflow) (3.4.0)\n",
            "Requirement already satisfied: packaging in /usr/local/lib/python3.11/dist-packages (from tensorflow) (24.2)\n",
            "Requirement already satisfied: protobuf!=4.21.0,!=4.21.1,!=4.21.2,!=4.21.3,!=4.21.4,!=4.21.5,<6.0.0dev,>=3.20.3 in /usr/local/lib/python3.11/dist-packages (from tensorflow) (5.29.4)\n",
            "Requirement already satisfied: requests<3,>=2.21.0 in /usr/local/lib/python3.11/dist-packages (from tensorflow) (2.32.3)\n",
            "Requirement already satisfied: setuptools in /usr/local/lib/python3.11/dist-packages (from tensorflow) (75.2.0)\n",
            "Requirement already satisfied: six>=1.12.0 in /usr/local/lib/python3.11/dist-packages (from tensorflow) (1.17.0)\n",
            "Requirement already satisfied: termcolor>=1.1.0 in /usr/local/lib/python3.11/dist-packages (from tensorflow) (3.0.1)\n",
            "Requirement already satisfied: typing-extensions>=3.6.6 in /usr/local/lib/python3.11/dist-packages (from tensorflow) (4.13.0)\n",
            "Requirement already satisfied: wrapt>=1.11.0 in /usr/local/lib/python3.11/dist-packages (from tensorflow) (1.17.2)\n",
            "Requirement already satisfied: grpcio<2.0,>=1.24.3 in /usr/local/lib/python3.11/dist-packages (from tensorflow) (1.71.0)\n",
            "Requirement already satisfied: tensorboard<2.19,>=2.18 in /usr/local/lib/python3.11/dist-packages (from tensorflow) (2.18.0)\n",
            "Requirement already satisfied: keras>=3.5.0 in /usr/local/lib/python3.11/dist-packages (from tensorflow) (3.8.0)\n",
            "Requirement already satisfied: numpy<2.1.0,>=1.26.0 in /usr/local/lib/python3.11/dist-packages (from tensorflow) (2.0.2)\n",
            "Requirement already satisfied: h5py>=3.11.0 in /usr/local/lib/python3.11/dist-packages (from tensorflow) (3.13.0)\n",
            "Requirement already satisfied: ml-dtypes<0.5.0,>=0.4.0 in /usr/local/lib/python3.11/dist-packages (from tensorflow) (0.4.1)\n",
            "Requirement already satisfied: tensorflow-io-gcs-filesystem>=0.23.1 in /usr/local/lib/python3.11/dist-packages (from tensorflow) (0.37.1)\n",
            "Requirement already satisfied: wheel<1.0,>=0.23.0 in /usr/local/lib/python3.11/dist-packages (from astunparse>=1.6.0->tensorflow) (0.45.1)\n",
            "Requirement already satisfied: rich in /usr/local/lib/python3.11/dist-packages (from keras>=3.5.0->tensorflow) (13.9.4)\n",
            "Requirement already satisfied: namex in /usr/local/lib/python3.11/dist-packages (from keras>=3.5.0->tensorflow) (0.0.8)\n",
            "Requirement already satisfied: optree in /usr/local/lib/python3.11/dist-packages (from keras>=3.5.0->tensorflow) (0.14.1)\n",
            "Requirement already satisfied: charset-normalizer<4,>=2 in /usr/local/lib/python3.11/dist-packages (from requests<3,>=2.21.0->tensorflow) (3.4.1)\n",
            "Requirement already satisfied: idna<4,>=2.5 in /usr/local/lib/python3.11/dist-packages (from requests<3,>=2.21.0->tensorflow) (3.10)\n",
            "Requirement already satisfied: urllib3<3,>=1.21.1 in /usr/local/lib/python3.11/dist-packages (from requests<3,>=2.21.0->tensorflow) (2.3.0)\n",
            "Requirement already satisfied: certifi>=2017.4.17 in /usr/local/lib/python3.11/dist-packages (from requests<3,>=2.21.0->tensorflow) (2025.1.31)\n",
            "Requirement already satisfied: markdown>=2.6.8 in /usr/local/lib/python3.11/dist-packages (from tensorboard<2.19,>=2.18->tensorflow) (3.7)\n",
            "Requirement already satisfied: tensorboard-data-server<0.8.0,>=0.7.0 in /usr/local/lib/python3.11/dist-packages (from tensorboard<2.19,>=2.18->tensorflow) (0.7.2)\n",
            "Requirement already satisfied: werkzeug>=1.0.1 in /usr/local/lib/python3.11/dist-packages (from tensorboard<2.19,>=2.18->tensorflow) (3.1.3)\n",
            "Requirement already satisfied: MarkupSafe>=2.1.1 in /usr/local/lib/python3.11/dist-packages (from werkzeug>=1.0.1->tensorboard<2.19,>=2.18->tensorflow) (3.0.2)\n",
            "Requirement already satisfied: markdown-it-py>=2.2.0 in /usr/local/lib/python3.11/dist-packages (from rich->keras>=3.5.0->tensorflow) (3.0.0)\n",
            "Requirement already satisfied: pygments<3.0.0,>=2.13.0 in /usr/local/lib/python3.11/dist-packages (from rich->keras>=3.5.0->tensorflow) (2.18.0)\n",
            "Requirement already satisfied: mdurl~=0.1 in /usr/local/lib/python3.11/dist-packages (from markdown-it-py>=2.2.0->rich->keras>=3.5.0->tensorflow) (0.1.2)\n"
          ]
        }
      ]
    },
    {
      "cell_type": "code",
      "source": [
        "import os\n",
        "import pandas as pd\n",
        "import tweepy\n",
        "import re\n",
        "import string\n",
        "import nltk\n",
        "nltk.download('punkt')\n",
        "nltk.download('stopwords')\n",
        "nltk.download('punkt_tab')\n",
        "from textblob import TextBlob\n",
        "import preprocessor as p\n",
        "from nltk.corpus import stopwords\n",
        "from nltk.tokenize import word_tokenize\n",
        "import pandas as pd\n",
        "from nltk.tokenize import word_tokenize\n",
        "from string import punctuation\n",
        "from nltk.corpus import stopwords\n",
        "from tensorflow.keras.preprocessing.text import Tokenizer\n",
        "from tensorflow.keras.preprocessing.sequence import pad_sequences\n",
        "from tensorflow.keras.layers import Embedding, SimpleRNN,Input\n",
        "from tensorflow.keras.models import Sequential,Model\n",
        "from tensorflow.keras.preprocessing import sequence\n",
        "from tensorflow.keras.layers import Dense,Dropout\n",
        "from tensorflow.keras.layers import Embedding, Flatten, Dense,Conv1D,MaxPooling1D\n",
        "from sklearn import preprocessing\n",
        "import matplotlib.pyplot as plt\n",
        "from sklearn.model_selection import train_test_split\n",
        "import itertools\n",
        "import seaborn as sns\n",
        "from sklearn.metrics import confusion_matrix\n",
        "from tensorflow.keras.utils import to_categorical\n",
        "from collections import Counter\n",
        "import tensorflow as tf\n",
        "from tensorflow.keras.layers import LSTM, Bidirectional, Dropout"
      ],
      "metadata": {
        "colab": {
          "base_uri": "https://localhost:8080/"
        },
        "id": "5ePxL-Ru1-e5",
        "outputId": "c4b57a8e-314c-4dc9-d6ff-7c57729d0712"
      },
      "execution_count": 130,
      "outputs": [
        {
          "output_type": "stream",
          "name": "stderr",
          "text": [
            "[nltk_data] Downloading package punkt to /root/nltk_data...\n",
            "[nltk_data]   Package punkt is already up-to-date!\n",
            "[nltk_data] Downloading package stopwords to /root/nltk_data...\n",
            "[nltk_data]   Package stopwords is already up-to-date!\n",
            "[nltk_data] Downloading package punkt_tab to /root/nltk_data...\n",
            "[nltk_data]   Package punkt_tab is already up-to-date!\n"
          ]
        }
      ]
    },
    {
      "cell_type": "markdown",
      "source": [
        "### **LOAD RAW DATA**"
      ],
      "metadata": {
        "id": "t1akmcpt4irT"
      }
    },
    {
      "cell_type": "code",
      "source": [
        "congress_df = pd.read_csv(\"/content/Congress_data.csv\")\n",
        "bjp_df = pd.read_csv(\"/content/BJP_data.csv\")"
      ],
      "metadata": {
        "id": "7TgBTDM-2rm-"
      },
      "execution_count": 131,
      "outputs": []
    },
    {
      "cell_type": "markdown",
      "source": [
        "### **DATA CLEANING**\n"
      ],
      "metadata": {
        "id": "YY3_Mj3d4qq5"
      }
    },
    {
      "cell_type": "code",
      "source": [
        "# Happy Emoticons\n",
        "emoticons_happy = set([\n",
        "    ':-)', ':)', ';)', ':o)', ':]', ':3', ':c)', ':>', '=]', '8)', '=)', ':}',\n",
        "    ':^)', ':-D', ':D', '8-D', '8D', 'x-D', 'xD', 'X-D', 'XD', '=-D', '=D',\n",
        "    '=-3', '=3', ':-))', \":'-)\", \":')\", ':*', ':^*', '>:P', ':-P', ':P', 'X-P',\n",
        "    'x-p', 'xp', 'XP', ':-p', ':p', '=p', ':-b', ':b', '>:)', '>;)', '>:-)',\n",
        "    '<3'\n",
        "])\n",
        "# Sad Emoticons\n",
        "emoticons_sad = set([\n",
        "    ':L', ':-/', '>:/', ':S', '>:[', ':@', ':-(', ':[', ':-||', '=L', ':<',\n",
        "    ':-[', ':-<', '=\\\\', '=/', '>:(', ':(', '>.<', \":'-(\", \":'(\", ':\\\\', ':-c',\n",
        "    ':c', ':{', '>:\\\\', ';('\n",
        "])\n",
        "# Combine emoticons\n",
        "emoticons = emoticons_happy.union(emoticons_sad)\n",
        "\n",
        "\n",
        "emoji_pattern = re.compile(\"[\"\n",
        "    u\"\\U0001F600-\\U0001F64F\"  # emoticons\n",
        "    u\"\\U0001F300-\\U0001F5FF\"  # symbols & pictographs\n",
        "    u\"\\U0001F680-\\U0001F6FF\"  # transport & map symbols\n",
        "    u\"\\U0001F1E0-\\U0001F1FF\"  # flags\n",
        "    u\"\\U00002702-\\U000027B0\"\n",
        "    u\"\\U000024C2-\\U0001F251\"\n",
        "\"]+\", flags=re.UNICODE)\n",
        "\n",
        "def clean_tweets(tweet):\n",
        "    stop_words = set(stopwords.words('english')) #this is where we use nltk\n",
        "    word_tokens = word_tokenize(tweet) #nltk used again for tokenisation\n",
        "\n",
        "    tweet = re.sub(r':', '', tweet)\n",
        "    tweet = re.sub(r'‚Ä¶', '', tweet)\n",
        "    tweet = re.sub(r'[^\\x00-\\x7F]+',' ', tweet)\n",
        "    tweet = emoji_pattern.sub(r'', tweet)\n",
        "\n",
        "    filtered_tweet = []\n",
        "    for w in word_tokens:\n",
        "        if w not in stop_words and w not in emoticons and w not in string.punctuation:\n",
        "            filtered_tweet.append(w)\n",
        "    return ' '.join(filtered_tweet)"
      ],
      "metadata": {
        "id": "R-D_ATSt4s_U"
      },
      "execution_count": 132,
      "outputs": []
    },
    {
      "cell_type": "markdown",
      "source": [
        " NLTK - Natural Language Toolkit (python library) is used for working with text data and here used for tokenization (converting the tweets into words) and for removing stopwords.The clean_tweets() funtion after tokenizing the tweet into words loops through each word and if the word is not a stopword ,an emoticon or a punctuation then it is kept in the cleaned tweet. Make the data more precise which is earier to process and improves accuracy.\n"
      ],
      "metadata": {
        "id": "NA_dS5OnhL-a"
      }
    },
    {
      "cell_type": "markdown",
      "source": [
        "### **ADDING POLARITY AND SUBJECTIVITY (SENTIMENT)**"
      ],
      "metadata": {
        "id": "R68E_JF6i4ZV"
      }
    },
    {
      "cell_type": "code",
      "source": [
        "def process_existing_csv(file_path, output_path):\n",
        "    df = pd.read_csv(file_path)\n",
        "    df['cleaned_text'] = df['original_text'].apply(lambda x: clean_tweets(str(x)))\n",
        "    df['sentiment'] = df['cleaned_text'].apply(lambda x: TextBlob(x).sentiment) #use of TextBlob\n",
        "    df['polarity'] = df['sentiment'].apply(lambda x: x.polarity)\n",
        "    df['subjectivity'] = df['sentiment'].apply(lambda x: x.subjectivity)\n",
        "    df.to_csv(output_path, index=False, encoding='utf-8')\n",
        "    print(f\"Processed file saved to {output_path}\")\n",
        "\n",
        "# Input and output paths\n",
        "process_existing_csv('/content/BJP_data.csv', 'bjp_data_processed.csv')\n",
        "process_existing_csv('/content/Congress_data.csv', 'congress_data_processed.csv')"
      ],
      "metadata": {
        "colab": {
          "base_uri": "https://localhost:8080/"
        },
        "id": "ZTPsdLCLi26S",
        "outputId": "42bc7cf1-50cc-49d2-8d1f-4d637036e4d0"
      },
      "execution_count": 133,
      "outputs": [
        {
          "output_type": "stream",
          "name": "stdout",
          "text": [
            "Processed file saved to bjp_data_processed.csv\n",
            "Processed file saved to congress_data_processed.csv\n"
          ]
        }
      ]
    },
    {
      "cell_type": "markdown",
      "source": [
        "TextBlob is used to perform sentiment analysis on the cleaned tweets. It gives you two key values:\n",
        "*  polarity: ranges from -1 (negative) to 1 (positive).\n",
        "*  subjectivity: ranges from 0 (objective) to 1 (subjective).\n",
        "\n",
        "\n",
        "\n"
      ],
      "metadata": {
        "id": "Npm8JPX1neE0"
      }
    },
    {
      "cell_type": "markdown",
      "source": [
        "### **LABELING TWEETS AS POSITIVE NEGATIVE**"
      ],
      "metadata": {
        "id": "X6CTzcmVoHND"
      }
    },
    {
      "cell_type": "markdown",
      "source": [
        "The TextBlob libary gives out sentiment polarity in the range of -1 to +1. For our topic of election prediction the neutral tweets would be of no or minimal us as they will not provide any valuable information. Thus for simplicity purpose we have labeled tweets as only positive and negative. Tweets with polarity less than 0 will be labelled negative(0) and greater than 0 will be positive(1)"
      ],
      "metadata": {
        "id": "lVnzvf8noKNt"
      }
    },
    {
      "cell_type": "code",
      "source": [
        "congress_p_df = pd.read_csv(\"/content/congress_data_processed.csv\")\n",
        "bjp_p_df = pd.read_csv(\"/content/bjp_data_processed.csv\")\n",
        "\n",
        "\n",
        "congress_p_df ['polarity'] = congress_p_df['polarity'].apply(lambda x: 1 if x > 0 else 0)\n",
        "bjp_p_df['polarity'] = bjp_p_df['polarity'].apply(lambda x: 1 if x > 0 else 0)"
      ],
      "metadata": {
        "id": "R8Pgpo-eoiC-"
      },
      "execution_count": 134,
      "outputs": []
    },
    {
      "cell_type": "code",
      "source": [
        "congress_p_df['polarity'].value_counts()"
      ],
      "metadata": {
        "colab": {
          "base_uri": "https://localhost:8080/",
          "height": 178
        },
        "id": "puLam4acpI9m",
        "outputId": "c07da950-3fe3-4d94-bfc6-94a942d88c86"
      },
      "execution_count": 135,
      "outputs": [
        {
          "output_type": "execute_result",
          "data": {
            "text/plain": [
              "polarity\n",
              "0    4132\n",
              "1    1676\n",
              "Name: count, dtype: int64"
            ],
            "text/html": [
              "<div>\n",
              "<style scoped>\n",
              "    .dataframe tbody tr th:only-of-type {\n",
              "        vertical-align: middle;\n",
              "    }\n",
              "\n",
              "    .dataframe tbody tr th {\n",
              "        vertical-align: top;\n",
              "    }\n",
              "\n",
              "    .dataframe thead th {\n",
              "        text-align: right;\n",
              "    }\n",
              "</style>\n",
              "<table border=\"1\" class=\"dataframe\">\n",
              "  <thead>\n",
              "    <tr style=\"text-align: right;\">\n",
              "      <th></th>\n",
              "      <th>count</th>\n",
              "    </tr>\n",
              "    <tr>\n",
              "      <th>polarity</th>\n",
              "      <th></th>\n",
              "    </tr>\n",
              "  </thead>\n",
              "  <tbody>\n",
              "    <tr>\n",
              "      <th>0</th>\n",
              "      <td>4132</td>\n",
              "    </tr>\n",
              "    <tr>\n",
              "      <th>1</th>\n",
              "      <td>1676</td>\n",
              "    </tr>\n",
              "  </tbody>\n",
              "</table>\n",
              "</div><br><label><b>dtype:</b> int64</label>"
            ]
          },
          "metadata": {},
          "execution_count": 135
        }
      ]
    },
    {
      "cell_type": "code",
      "source": [
        "bjp_p_df['polarity'].value_counts()"
      ],
      "metadata": {
        "colab": {
          "base_uri": "https://localhost:8080/",
          "height": 178
        },
        "id": "h40giNkqpPWb",
        "outputId": "603f2a9b-68e1-4548-c04e-3a68d1d617a1"
      },
      "execution_count": 136,
      "outputs": [
        {
          "output_type": "execute_result",
          "data": {
            "text/plain": [
              "polarity\n",
              "0    1655\n",
              "1     613\n",
              "Name: count, dtype: int64"
            ],
            "text/html": [
              "<div>\n",
              "<style scoped>\n",
              "    .dataframe tbody tr th:only-of-type {\n",
              "        vertical-align: middle;\n",
              "    }\n",
              "\n",
              "    .dataframe tbody tr th {\n",
              "        vertical-align: top;\n",
              "    }\n",
              "\n",
              "    .dataframe thead th {\n",
              "        text-align: right;\n",
              "    }\n",
              "</style>\n",
              "<table border=\"1\" class=\"dataframe\">\n",
              "  <thead>\n",
              "    <tr style=\"text-align: right;\">\n",
              "      <th></th>\n",
              "      <th>count</th>\n",
              "    </tr>\n",
              "    <tr>\n",
              "      <th>polarity</th>\n",
              "      <th></th>\n",
              "    </tr>\n",
              "  </thead>\n",
              "  <tbody>\n",
              "    <tr>\n",
              "      <th>0</th>\n",
              "      <td>1655</td>\n",
              "    </tr>\n",
              "    <tr>\n",
              "      <th>1</th>\n",
              "      <td>613</td>\n",
              "    </tr>\n",
              "  </tbody>\n",
              "</table>\n",
              "</div><br><label><b>dtype:</b> int64</label>"
            ]
          },
          "metadata": {},
          "execution_count": 136
        }
      ]
    },
    {
      "cell_type": "markdown",
      "source": [
        "### **ADJUSTING THE DATASET**"
      ],
      "metadata": {
        "id": "kkgIOXT4zAea"
      }
    },
    {
      "cell_type": "markdown",
      "source": [
        "\n",
        "Since the ratio of the negative tweets to positive tweets is not proportional. Our data set is not balanced. This will create a bias while training the model. To avoid this we have resampled the data."
      ],
      "metadata": {
        "id": "eIh2IaGAzD1k"
      }
    },
    {
      "cell_type": "code",
      "source": [
        "congress_df_jan = pd.read_csv('/content/Congress_data_jan.csv')\n",
        "bjp_df_jan = pd.read_csv('/content/BJP_data_jan.csv') #adding extra datas"
      ],
      "metadata": {
        "id": "c1XDkTe9zFWB"
      },
      "execution_count": 137,
      "outputs": []
    },
    {
      "cell_type": "code",
      "source": [
        "bjp_df_jan = bjp_df_jan[['id','clean_text','polarity','place']]\n",
        "congress_df_jan = congress_df_jan[['id','clean_text','polarity','place']]"
      ],
      "metadata": {
        "id": "V4pgcP4nzo9D"
      },
      "execution_count": 138,
      "outputs": []
    },
    {
      "cell_type": "code",
      "source": [
        "bjp_df_jan['polarity'] = bjp_df_jan['polarity'].apply(lambda x: 1 if x > 0 else 0)\n",
        "congress_df_jan['polarity'] = congress_df_jan['polarity'].apply(lambda x: 1 if x > 0 else 0)"
      ],
      "metadata": {
        "id": "6Aez4NN_zsN9",
        "colab": {
          "base_uri": "https://localhost:8080/"
        },
        "outputId": "eadfe5fa-f0e1-43e1-e083-6359d75e1620"
      },
      "execution_count": 139,
      "outputs": [
        {
          "output_type": "stream",
          "name": "stderr",
          "text": [
            "<ipython-input-139-10b9057bafb3>:2: SettingWithCopyWarning: \n",
            "A value is trying to be set on a copy of a slice from a DataFrame.\n",
            "Try using .loc[row_indexer,col_indexer] = value instead\n",
            "\n",
            "See the caveats in the documentation: https://pandas.pydata.org/pandas-docs/stable/user_guide/indexing.html#returning-a-view-versus-a-copy\n",
            "  congress_df_jan['polarity'] = congress_df_jan['polarity'].apply(lambda x: 1 if x > 0 else 0)\n"
          ]
        }
      ]
    },
    {
      "cell_type": "code",
      "source": [
        "bjp_df_jan['polarity'].value_counts()"
      ],
      "metadata": {
        "colab": {
          "base_uri": "https://localhost:8080/",
          "height": 178
        },
        "id": "tG_fna0mzv5Y",
        "outputId": "8ce03c2b-3b48-4426-b959-08e358320353"
      },
      "execution_count": 140,
      "outputs": [
        {
          "output_type": "execute_result",
          "data": {
            "text/plain": [
              "polarity\n",
              "0    1303\n",
              "1     853\n",
              "Name: count, dtype: int64"
            ],
            "text/html": [
              "<div>\n",
              "<style scoped>\n",
              "    .dataframe tbody tr th:only-of-type {\n",
              "        vertical-align: middle;\n",
              "    }\n",
              "\n",
              "    .dataframe tbody tr th {\n",
              "        vertical-align: top;\n",
              "    }\n",
              "\n",
              "    .dataframe thead th {\n",
              "        text-align: right;\n",
              "    }\n",
              "</style>\n",
              "<table border=\"1\" class=\"dataframe\">\n",
              "  <thead>\n",
              "    <tr style=\"text-align: right;\">\n",
              "      <th></th>\n",
              "      <th>count</th>\n",
              "    </tr>\n",
              "    <tr>\n",
              "      <th>polarity</th>\n",
              "      <th></th>\n",
              "    </tr>\n",
              "  </thead>\n",
              "  <tbody>\n",
              "    <tr>\n",
              "      <th>0</th>\n",
              "      <td>1303</td>\n",
              "    </tr>\n",
              "    <tr>\n",
              "      <th>1</th>\n",
              "      <td>853</td>\n",
              "    </tr>\n",
              "  </tbody>\n",
              "</table>\n",
              "</div><br><label><b>dtype:</b> int64</label>"
            ]
          },
          "metadata": {},
          "execution_count": 140
        }
      ]
    },
    {
      "cell_type": "code",
      "source": [
        "congress_df_jan['polarity'].value_counts()"
      ],
      "metadata": {
        "colab": {
          "base_uri": "https://localhost:8080/",
          "height": 178
        },
        "id": "3cR_PDc9zyPQ",
        "outputId": "4061bf2f-6fd9-4f1b-e28b-062a5bb5472e"
      },
      "execution_count": 141,
      "outputs": [
        {
          "output_type": "execute_result",
          "data": {
            "text/plain": [
              "polarity\n",
              "0    857\n",
              "1    352\n",
              "Name: count, dtype: int64"
            ],
            "text/html": [
              "<div>\n",
              "<style scoped>\n",
              "    .dataframe tbody tr th:only-of-type {\n",
              "        vertical-align: middle;\n",
              "    }\n",
              "\n",
              "    .dataframe tbody tr th {\n",
              "        vertical-align: top;\n",
              "    }\n",
              "\n",
              "    .dataframe thead th {\n",
              "        text-align: right;\n",
              "    }\n",
              "</style>\n",
              "<table border=\"1\" class=\"dataframe\">\n",
              "  <thead>\n",
              "    <tr style=\"text-align: right;\">\n",
              "      <th></th>\n",
              "      <th>count</th>\n",
              "    </tr>\n",
              "    <tr>\n",
              "      <th>polarity</th>\n",
              "      <th></th>\n",
              "    </tr>\n",
              "  </thead>\n",
              "  <tbody>\n",
              "    <tr>\n",
              "      <th>0</th>\n",
              "      <td>857</td>\n",
              "    </tr>\n",
              "    <tr>\n",
              "      <th>1</th>\n",
              "      <td>352</td>\n",
              "    </tr>\n",
              "  </tbody>\n",
              "</table>\n",
              "</div><br><label><b>dtype:</b> int64</label>"
            ]
          },
          "metadata": {},
          "execution_count": 141
        }
      ]
    },
    {
      "cell_type": "markdown",
      "source": [
        "To balance out our earlier dataset we only need to add the positive values from this new dataset so we will be picking out the positve tweets and adding them to out main data set"
      ],
      "metadata": {
        "id": "7ohkhw63z2gB"
      }
    },
    {
      "cell_type": "code",
      "source": [
        "bjp_df_jan =bjp_df_jan.loc[bjp_df_jan['polarity'] == 1]\n",
        "congress_df_jan =congress_df_jan.loc[congress_df_jan['polarity'] == 1]"
      ],
      "metadata": {
        "id": "jDp5wSVV0DNc"
      },
      "execution_count": 142,
      "outputs": []
    },
    {
      "cell_type": "code",
      "source": [
        "bjp = pd.concat([bjp_p_df, bjp_df_jan], ignore_index=True)\n",
        "congress = pd.concat([congress_p_df, congress_df_jan], ignore_index=True)"
      ],
      "metadata": {
        "id": "BaANPEWi0GG9"
      },
      "execution_count": 143,
      "outputs": []
    },
    {
      "cell_type": "code",
      "source": [
        "bjp['polarity'].value_counts()\n"
      ],
      "metadata": {
        "colab": {
          "base_uri": "https://localhost:8080/",
          "height": 178
        },
        "id": "94DBcRFy1Qxe",
        "outputId": "7890dc33-f509-4a5b-e0f5-0ba6d34edcc0"
      },
      "execution_count": 144,
      "outputs": [
        {
          "output_type": "execute_result",
          "data": {
            "text/plain": [
              "polarity\n",
              "0    1655\n",
              "1    1466\n",
              "Name: count, dtype: int64"
            ],
            "text/html": [
              "<div>\n",
              "<style scoped>\n",
              "    .dataframe tbody tr th:only-of-type {\n",
              "        vertical-align: middle;\n",
              "    }\n",
              "\n",
              "    .dataframe tbody tr th {\n",
              "        vertical-align: top;\n",
              "    }\n",
              "\n",
              "    .dataframe thead th {\n",
              "        text-align: right;\n",
              "    }\n",
              "</style>\n",
              "<table border=\"1\" class=\"dataframe\">\n",
              "  <thead>\n",
              "    <tr style=\"text-align: right;\">\n",
              "      <th></th>\n",
              "      <th>count</th>\n",
              "    </tr>\n",
              "    <tr>\n",
              "      <th>polarity</th>\n",
              "      <th></th>\n",
              "    </tr>\n",
              "  </thead>\n",
              "  <tbody>\n",
              "    <tr>\n",
              "      <th>0</th>\n",
              "      <td>1655</td>\n",
              "    </tr>\n",
              "    <tr>\n",
              "      <th>1</th>\n",
              "      <td>1466</td>\n",
              "    </tr>\n",
              "  </tbody>\n",
              "</table>\n",
              "</div><br><label><b>dtype:</b> int64</label>"
            ]
          },
          "metadata": {},
          "execution_count": 144
        }
      ]
    },
    {
      "cell_type": "code",
      "source": [
        "congress['polarity'].value_counts()\n"
      ],
      "metadata": {
        "colab": {
          "base_uri": "https://localhost:8080/",
          "height": 178
        },
        "id": "j3e0lLtc1ROO",
        "outputId": "dd32acdd-dafa-413b-c18e-4c09da82dd02"
      },
      "execution_count": 145,
      "outputs": [
        {
          "output_type": "execute_result",
          "data": {
            "text/plain": [
              "polarity\n",
              "0    4132\n",
              "1    2028\n",
              "Name: count, dtype: int64"
            ],
            "text/html": [
              "<div>\n",
              "<style scoped>\n",
              "    .dataframe tbody tr th:only-of-type {\n",
              "        vertical-align: middle;\n",
              "    }\n",
              "\n",
              "    .dataframe tbody tr th {\n",
              "        vertical-align: top;\n",
              "    }\n",
              "\n",
              "    .dataframe thead th {\n",
              "        text-align: right;\n",
              "    }\n",
              "</style>\n",
              "<table border=\"1\" class=\"dataframe\">\n",
              "  <thead>\n",
              "    <tr style=\"text-align: right;\">\n",
              "      <th></th>\n",
              "      <th>count</th>\n",
              "    </tr>\n",
              "    <tr>\n",
              "      <th>polarity</th>\n",
              "      <th></th>\n",
              "    </tr>\n",
              "  </thead>\n",
              "  <tbody>\n",
              "    <tr>\n",
              "      <th>0</th>\n",
              "      <td>4132</td>\n",
              "    </tr>\n",
              "    <tr>\n",
              "      <th>1</th>\n",
              "      <td>2028</td>\n",
              "    </tr>\n",
              "  </tbody>\n",
              "</table>\n",
              "</div><br><label><b>dtype:</b> int64</label>"
            ]
          },
          "metadata": {},
          "execution_count": 145
        }
      ]
    },
    {
      "cell_type": "code",
      "source": [
        "bjp.to_csv('bjp_final.csv',index= False)\n",
        "congress.to_csv('congress_final.csv', index = False)"
      ],
      "metadata": {
        "id": "znS9THeX1TpD"
      },
      "execution_count": 146,
      "outputs": []
    },
    {
      "cell_type": "code",
      "source": [
        "frames = [bjp, congress]\n",
        "election_data = pd.concat(frames)"
      ],
      "metadata": {
        "id": "LFNubf7I2H5g"
      },
      "execution_count": 147,
      "outputs": []
    },
    {
      "cell_type": "code",
      "source": [
        "election_data.to_csv('election.csv',index=False) #combiningg both the datesets into into single csv file\n",
        "print(election_data.columns)"
      ],
      "metadata": {
        "colab": {
          "base_uri": "https://localhost:8080/"
        },
        "id": "rjqXmkA62V5S",
        "outputId": "7ee42746-84c0-4180-97ff-1608712fa453"
      },
      "execution_count": 148,
      "outputs": [
        {
          "output_type": "stream",
          "name": "stdout",
          "text": [
            "Index(['id', 'created_at', 'source', 'original_text', 'lang', 'favorite_count',\n",
            "       'retweet_count', 'original_author', 'possibly_sensitive', 'hashtags',\n",
            "       'user_mentions', 'place', 'cleaned_text', 'sentiment', 'polarity',\n",
            "       'subjectivity', 'clean_text'],\n",
            "      dtype='object')\n"
          ]
        }
      ]
    },
    {
      "cell_type": "code",
      "source": [
        "election_data.head()\n"
      ],
      "metadata": {
        "colab": {
          "base_uri": "https://localhost:8080/",
          "height": 521
        },
        "id": "an471jsP2ph7",
        "outputId": "029b1051-df9e-4bc0-de86-b16fc804eef9"
      },
      "execution_count": 149,
      "outputs": [
        {
          "output_type": "execute_result",
          "data": {
            "text/plain": [
              "                      id                      created_at  \\\n",
              "0  1118010000000000000.0  Tue Apr 16 04:27:15 +0000 2019   \n",
              "1  1118010000000000000.0  Tue Apr 16 04:27:08 +0000 2019   \n",
              "2  1118010000000000000.0  Tue Apr 16 04:26:58 +0000 2019   \n",
              "3  1118010000000000000.0  Tue Apr 16 04:26:52 +0000 2019   \n",
              "4  1118010000000000000.0  Tue Apr 16 04:26:39 +0000 2019   \n",
              "\n",
              "                                              source  \\\n",
              "0  <a href=\"http://twitter.com\" rel=\"nofollow\">Tw...   \n",
              "1  <a href=\"http://twitter.com/download/android\" ...   \n",
              "2  <a href=\"http://twitter.com/download/android\" ...   \n",
              "3  <a href=\"http://twitter.com/download/iphone\" r...   \n",
              "4  <a href=\"http://twitter.com/download/android\" ...   \n",
              "\n",
              "                                       original_text lang favorite_count  \\\n",
              "0  @smitabarooah @ModiOnceMore This video show ho...   en            0.0   \n",
              "1  RT @NandiniOza: A day after his sister n fathe...   en            0.0   \n",
              "2  RT @dpradhanbjp: Glimpses of the massive gathe...   en            0.0   \n",
              "3  RT @JhaSanjay: Dear @ArvindKejriwal Ji: Let’s ...   en            0.0   \n",
              "4  @kavitavkhanna @VinodKhanna @BJP4India @PMOInd...   en            0.0   \n",
              "\n",
              "  retweet_count  original_author possibly_sensitive  \\\n",
              "0           0.0  wanderlust_hims                NaN   \n",
              "1           1.0  RajeevS27545206                NaN   \n",
              "2         866.0  Anushka97223405                NaN   \n",
              "3         648.0     YasminKidwai                NaN   \n",
              "4           0.0    vineetypmehta                NaN   \n",
              "\n",
              "                             hashtags  \\\n",
              "0  Modi, Government, effective, works   \n",
              "1                       Congress, BJP   \n",
              "2              BJP, VijaySankalpYatra   \n",
              "3                                 BJP   \n",
              "4                                 BJP   \n",
              "\n",
              "                                       user_mentions         place  \\\n",
              "0                         smitabarooah, ModiOnceMore       Twitter   \n",
              "1                 NandiniOza, imjadeja, narendramodi  Delhi, India   \n",
              "2                                        dpradhanbjp           NaN   \n",
              "3                          JhaSanjay, ArvindKejriwal     New Delhi   \n",
              "4  kavitavkhanna, VinodKhanna, BJP4India, PMOIndi...         India   \n",
              "\n",
              "                                        cleaned_text  \\\n",
              "0  smitabarooah ModiOnceMore This video show Modi...   \n",
              "1  RT NandiniOza A day sister n father joined Con...   \n",
              "2  RT dpradhanbjp Glimpses massive gathering supp...   \n",
              "3  RT JhaSanjay Dear ArvindKejriwal Ji Let ’ clea...   \n",
              "4  kavitavkhanna VinodKhanna BJP4India PMOIndia n...   \n",
              "\n",
              "                                           sentiment  polarity  subjectivity  \\\n",
              "0          Sentiment(polarity=0.6, subjectivity=0.8)         1          0.80   \n",
              "1          Sentiment(polarity=0.0, subjectivity=0.0)         0          0.00   \n",
              "2          Sentiment(polarity=0.0, subjectivity=1.0)         0          1.00   \n",
              "3  Sentiment(polarity=0.18333333333333335, subjec...         1          0.85   \n",
              "4          Sentiment(polarity=0.0, subjectivity=0.0)         0          0.00   \n",
              "\n",
              "  clean_text  \n",
              "0        NaN  \n",
              "1        NaN  \n",
              "2        NaN  \n",
              "3        NaN  \n",
              "4        NaN  "
            ],
            "text/html": [
              "\n",
              "  <div id=\"df-56ecada0-24b5-4028-bb24-8fbdafcdab15\" class=\"colab-df-container\">\n",
              "    <div>\n",
              "<style scoped>\n",
              "    .dataframe tbody tr th:only-of-type {\n",
              "        vertical-align: middle;\n",
              "    }\n",
              "\n",
              "    .dataframe tbody tr th {\n",
              "        vertical-align: top;\n",
              "    }\n",
              "\n",
              "    .dataframe thead th {\n",
              "        text-align: right;\n",
              "    }\n",
              "</style>\n",
              "<table border=\"1\" class=\"dataframe\">\n",
              "  <thead>\n",
              "    <tr style=\"text-align: right;\">\n",
              "      <th></th>\n",
              "      <th>id</th>\n",
              "      <th>created_at</th>\n",
              "      <th>source</th>\n",
              "      <th>original_text</th>\n",
              "      <th>lang</th>\n",
              "      <th>favorite_count</th>\n",
              "      <th>retweet_count</th>\n",
              "      <th>original_author</th>\n",
              "      <th>possibly_sensitive</th>\n",
              "      <th>hashtags</th>\n",
              "      <th>user_mentions</th>\n",
              "      <th>place</th>\n",
              "      <th>cleaned_text</th>\n",
              "      <th>sentiment</th>\n",
              "      <th>polarity</th>\n",
              "      <th>subjectivity</th>\n",
              "      <th>clean_text</th>\n",
              "    </tr>\n",
              "  </thead>\n",
              "  <tbody>\n",
              "    <tr>\n",
              "      <th>0</th>\n",
              "      <td>1118010000000000000.0</td>\n",
              "      <td>Tue Apr 16 04:27:15 +0000 2019</td>\n",
              "      <td>&lt;a href=\"http://twitter.com\" rel=\"nofollow\"&gt;Tw...</td>\n",
              "      <td>@smitabarooah @ModiOnceMore This video show ho...</td>\n",
              "      <td>en</td>\n",
              "      <td>0.0</td>\n",
              "      <td>0.0</td>\n",
              "      <td>wanderlust_hims</td>\n",
              "      <td>NaN</td>\n",
              "      <td>Modi, Government, effective, works</td>\n",
              "      <td>smitabarooah, ModiOnceMore</td>\n",
              "      <td>Twitter</td>\n",
              "      <td>smitabarooah ModiOnceMore This video show Modi...</td>\n",
              "      <td>Sentiment(polarity=0.6, subjectivity=0.8)</td>\n",
              "      <td>1</td>\n",
              "      <td>0.80</td>\n",
              "      <td>NaN</td>\n",
              "    </tr>\n",
              "    <tr>\n",
              "      <th>1</th>\n",
              "      <td>1118010000000000000.0</td>\n",
              "      <td>Tue Apr 16 04:27:08 +0000 2019</td>\n",
              "      <td>&lt;a href=\"http://twitter.com/download/android\" ...</td>\n",
              "      <td>RT @NandiniOza: A day after his sister n fathe...</td>\n",
              "      <td>en</td>\n",
              "      <td>0.0</td>\n",
              "      <td>1.0</td>\n",
              "      <td>RajeevS27545206</td>\n",
              "      <td>NaN</td>\n",
              "      <td>Congress, BJP</td>\n",
              "      <td>NandiniOza, imjadeja, narendramodi</td>\n",
              "      <td>Delhi, India</td>\n",
              "      <td>RT NandiniOza A day sister n father joined Con...</td>\n",
              "      <td>Sentiment(polarity=0.0, subjectivity=0.0)</td>\n",
              "      <td>0</td>\n",
              "      <td>0.00</td>\n",
              "      <td>NaN</td>\n",
              "    </tr>\n",
              "    <tr>\n",
              "      <th>2</th>\n",
              "      <td>1118010000000000000.0</td>\n",
              "      <td>Tue Apr 16 04:26:58 +0000 2019</td>\n",
              "      <td>&lt;a href=\"http://twitter.com/download/android\" ...</td>\n",
              "      <td>RT @dpradhanbjp: Glimpses of the massive gathe...</td>\n",
              "      <td>en</td>\n",
              "      <td>0.0</td>\n",
              "      <td>866.0</td>\n",
              "      <td>Anushka97223405</td>\n",
              "      <td>NaN</td>\n",
              "      <td>BJP, VijaySankalpYatra</td>\n",
              "      <td>dpradhanbjp</td>\n",
              "      <td>NaN</td>\n",
              "      <td>RT dpradhanbjp Glimpses massive gathering supp...</td>\n",
              "      <td>Sentiment(polarity=0.0, subjectivity=1.0)</td>\n",
              "      <td>0</td>\n",
              "      <td>1.00</td>\n",
              "      <td>NaN</td>\n",
              "    </tr>\n",
              "    <tr>\n",
              "      <th>3</th>\n",
              "      <td>1118010000000000000.0</td>\n",
              "      <td>Tue Apr 16 04:26:52 +0000 2019</td>\n",
              "      <td>&lt;a href=\"http://twitter.com/download/iphone\" r...</td>\n",
              "      <td>RT @JhaSanjay: Dear @ArvindKejriwal Ji: Let’s ...</td>\n",
              "      <td>en</td>\n",
              "      <td>0.0</td>\n",
              "      <td>648.0</td>\n",
              "      <td>YasminKidwai</td>\n",
              "      <td>NaN</td>\n",
              "      <td>BJP</td>\n",
              "      <td>JhaSanjay, ArvindKejriwal</td>\n",
              "      <td>New Delhi</td>\n",
              "      <td>RT JhaSanjay Dear ArvindKejriwal Ji Let ’ clea...</td>\n",
              "      <td>Sentiment(polarity=0.18333333333333335, subjec...</td>\n",
              "      <td>1</td>\n",
              "      <td>0.85</td>\n",
              "      <td>NaN</td>\n",
              "    </tr>\n",
              "    <tr>\n",
              "      <th>4</th>\n",
              "      <td>1118010000000000000.0</td>\n",
              "      <td>Tue Apr 16 04:26:39 +0000 2019</td>\n",
              "      <td>&lt;a href=\"http://twitter.com/download/android\" ...</td>\n",
              "      <td>@kavitavkhanna @VinodKhanna @BJP4India @PMOInd...</td>\n",
              "      <td>en</td>\n",
              "      <td>0.0</td>\n",
              "      <td>0.0</td>\n",
              "      <td>vineetypmehta</td>\n",
              "      <td>NaN</td>\n",
              "      <td>BJP</td>\n",
              "      <td>kavitavkhanna, VinodKhanna, BJP4India, PMOIndi...</td>\n",
              "      <td>India</td>\n",
              "      <td>kavitavkhanna VinodKhanna BJP4India PMOIndia n...</td>\n",
              "      <td>Sentiment(polarity=0.0, subjectivity=0.0)</td>\n",
              "      <td>0</td>\n",
              "      <td>0.00</td>\n",
              "      <td>NaN</td>\n",
              "    </tr>\n",
              "  </tbody>\n",
              "</table>\n",
              "</div>\n",
              "    <div class=\"colab-df-buttons\">\n",
              "\n",
              "  <div class=\"colab-df-container\">\n",
              "    <button class=\"colab-df-convert\" onclick=\"convertToInteractive('df-56ecada0-24b5-4028-bb24-8fbdafcdab15')\"\n",
              "            title=\"Convert this dataframe to an interactive table.\"\n",
              "            style=\"display:none;\">\n",
              "\n",
              "  <svg xmlns=\"http://www.w3.org/2000/svg\" height=\"24px\" viewBox=\"0 -960 960 960\">\n",
              "    <path d=\"M120-120v-720h720v720H120Zm60-500h600v-160H180v160Zm220 220h160v-160H400v160Zm0 220h160v-160H400v160ZM180-400h160v-160H180v160Zm440 0h160v-160H620v160ZM180-180h160v-160H180v160Zm440 0h160v-160H620v160Z\"/>\n",
              "  </svg>\n",
              "    </button>\n",
              "\n",
              "  <style>\n",
              "    .colab-df-container {\n",
              "      display:flex;\n",
              "      gap: 12px;\n",
              "    }\n",
              "\n",
              "    .colab-df-convert {\n",
              "      background-color: #E8F0FE;\n",
              "      border: none;\n",
              "      border-radius: 50%;\n",
              "      cursor: pointer;\n",
              "      display: none;\n",
              "      fill: #1967D2;\n",
              "      height: 32px;\n",
              "      padding: 0 0 0 0;\n",
              "      width: 32px;\n",
              "    }\n",
              "\n",
              "    .colab-df-convert:hover {\n",
              "      background-color: #E2EBFA;\n",
              "      box-shadow: 0px 1px 2px rgba(60, 64, 67, 0.3), 0px 1px 3px 1px rgba(60, 64, 67, 0.15);\n",
              "      fill: #174EA6;\n",
              "    }\n",
              "\n",
              "    .colab-df-buttons div {\n",
              "      margin-bottom: 4px;\n",
              "    }\n",
              "\n",
              "    [theme=dark] .colab-df-convert {\n",
              "      background-color: #3B4455;\n",
              "      fill: #D2E3FC;\n",
              "    }\n",
              "\n",
              "    [theme=dark] .colab-df-convert:hover {\n",
              "      background-color: #434B5C;\n",
              "      box-shadow: 0px 1px 3px 1px rgba(0, 0, 0, 0.15);\n",
              "      filter: drop-shadow(0px 1px 2px rgba(0, 0, 0, 0.3));\n",
              "      fill: #FFFFFF;\n",
              "    }\n",
              "  </style>\n",
              "\n",
              "    <script>\n",
              "      const buttonEl =\n",
              "        document.querySelector('#df-56ecada0-24b5-4028-bb24-8fbdafcdab15 button.colab-df-convert');\n",
              "      buttonEl.style.display =\n",
              "        google.colab.kernel.accessAllowed ? 'block' : 'none';\n",
              "\n",
              "      async function convertToInteractive(key) {\n",
              "        const element = document.querySelector('#df-56ecada0-24b5-4028-bb24-8fbdafcdab15');\n",
              "        const dataTable =\n",
              "          await google.colab.kernel.invokeFunction('convertToInteractive',\n",
              "                                                    [key], {});\n",
              "        if (!dataTable) return;\n",
              "\n",
              "        const docLinkHtml = 'Like what you see? Visit the ' +\n",
              "          '<a target=\"_blank\" href=https://colab.research.google.com/notebooks/data_table.ipynb>data table notebook</a>'\n",
              "          + ' to learn more about interactive tables.';\n",
              "        element.innerHTML = '';\n",
              "        dataTable['output_type'] = 'display_data';\n",
              "        await google.colab.output.renderOutput(dataTable, element);\n",
              "        const docLink = document.createElement('div');\n",
              "        docLink.innerHTML = docLinkHtml;\n",
              "        element.appendChild(docLink);\n",
              "      }\n",
              "    </script>\n",
              "  </div>\n",
              "\n",
              "\n",
              "<div id=\"df-14cac562-7e21-4892-87c5-69dfe7ca28e5\">\n",
              "  <button class=\"colab-df-quickchart\" onclick=\"quickchart('df-14cac562-7e21-4892-87c5-69dfe7ca28e5')\"\n",
              "            title=\"Suggest charts\"\n",
              "            style=\"display:none;\">\n",
              "\n",
              "<svg xmlns=\"http://www.w3.org/2000/svg\" height=\"24px\"viewBox=\"0 0 24 24\"\n",
              "     width=\"24px\">\n",
              "    <g>\n",
              "        <path d=\"M19 3H5c-1.1 0-2 .9-2 2v14c0 1.1.9 2 2 2h14c1.1 0 2-.9 2-2V5c0-1.1-.9-2-2-2zM9 17H7v-7h2v7zm4 0h-2V7h2v10zm4 0h-2v-4h2v4z\"/>\n",
              "    </g>\n",
              "</svg>\n",
              "  </button>\n",
              "\n",
              "<style>\n",
              "  .colab-df-quickchart {\n",
              "      --bg-color: #E8F0FE;\n",
              "      --fill-color: #1967D2;\n",
              "      --hover-bg-color: #E2EBFA;\n",
              "      --hover-fill-color: #174EA6;\n",
              "      --disabled-fill-color: #AAA;\n",
              "      --disabled-bg-color: #DDD;\n",
              "  }\n",
              "\n",
              "  [theme=dark] .colab-df-quickchart {\n",
              "      --bg-color: #3B4455;\n",
              "      --fill-color: #D2E3FC;\n",
              "      --hover-bg-color: #434B5C;\n",
              "      --hover-fill-color: #FFFFFF;\n",
              "      --disabled-bg-color: #3B4455;\n",
              "      --disabled-fill-color: #666;\n",
              "  }\n",
              "\n",
              "  .colab-df-quickchart {\n",
              "    background-color: var(--bg-color);\n",
              "    border: none;\n",
              "    border-radius: 50%;\n",
              "    cursor: pointer;\n",
              "    display: none;\n",
              "    fill: var(--fill-color);\n",
              "    height: 32px;\n",
              "    padding: 0;\n",
              "    width: 32px;\n",
              "  }\n",
              "\n",
              "  .colab-df-quickchart:hover {\n",
              "    background-color: var(--hover-bg-color);\n",
              "    box-shadow: 0 1px 2px rgba(60, 64, 67, 0.3), 0 1px 3px 1px rgba(60, 64, 67, 0.15);\n",
              "    fill: var(--button-hover-fill-color);\n",
              "  }\n",
              "\n",
              "  .colab-df-quickchart-complete:disabled,\n",
              "  .colab-df-quickchart-complete:disabled:hover {\n",
              "    background-color: var(--disabled-bg-color);\n",
              "    fill: var(--disabled-fill-color);\n",
              "    box-shadow: none;\n",
              "  }\n",
              "\n",
              "  .colab-df-spinner {\n",
              "    border: 2px solid var(--fill-color);\n",
              "    border-color: transparent;\n",
              "    border-bottom-color: var(--fill-color);\n",
              "    animation:\n",
              "      spin 1s steps(1) infinite;\n",
              "  }\n",
              "\n",
              "  @keyframes spin {\n",
              "    0% {\n",
              "      border-color: transparent;\n",
              "      border-bottom-color: var(--fill-color);\n",
              "      border-left-color: var(--fill-color);\n",
              "    }\n",
              "    20% {\n",
              "      border-color: transparent;\n",
              "      border-left-color: var(--fill-color);\n",
              "      border-top-color: var(--fill-color);\n",
              "    }\n",
              "    30% {\n",
              "      border-color: transparent;\n",
              "      border-left-color: var(--fill-color);\n",
              "      border-top-color: var(--fill-color);\n",
              "      border-right-color: var(--fill-color);\n",
              "    }\n",
              "    40% {\n",
              "      border-color: transparent;\n",
              "      border-right-color: var(--fill-color);\n",
              "      border-top-color: var(--fill-color);\n",
              "    }\n",
              "    60% {\n",
              "      border-color: transparent;\n",
              "      border-right-color: var(--fill-color);\n",
              "    }\n",
              "    80% {\n",
              "      border-color: transparent;\n",
              "      border-right-color: var(--fill-color);\n",
              "      border-bottom-color: var(--fill-color);\n",
              "    }\n",
              "    90% {\n",
              "      border-color: transparent;\n",
              "      border-bottom-color: var(--fill-color);\n",
              "    }\n",
              "  }\n",
              "</style>\n",
              "\n",
              "  <script>\n",
              "    async function quickchart(key) {\n",
              "      const quickchartButtonEl =\n",
              "        document.querySelector('#' + key + ' button');\n",
              "      quickchartButtonEl.disabled = true;  // To prevent multiple clicks.\n",
              "      quickchartButtonEl.classList.add('colab-df-spinner');\n",
              "      try {\n",
              "        const charts = await google.colab.kernel.invokeFunction(\n",
              "            'suggestCharts', [key], {});\n",
              "      } catch (error) {\n",
              "        console.error('Error during call to suggestCharts:', error);\n",
              "      }\n",
              "      quickchartButtonEl.classList.remove('colab-df-spinner');\n",
              "      quickchartButtonEl.classList.add('colab-df-quickchart-complete');\n",
              "    }\n",
              "    (() => {\n",
              "      let quickchartButtonEl =\n",
              "        document.querySelector('#df-14cac562-7e21-4892-87c5-69dfe7ca28e5 button');\n",
              "      quickchartButtonEl.style.display =\n",
              "        google.colab.kernel.accessAllowed ? 'block' : 'none';\n",
              "    })();\n",
              "  </script>\n",
              "</div>\n",
              "\n",
              "    </div>\n",
              "  </div>\n"
            ],
            "application/vnd.google.colaboratory.intrinsic+json": {
              "type": "dataframe",
              "variable_name": "election_data",
              "summary": "{\n  \"name\": \"election_data\",\n  \"rows\": 9281,\n  \"fields\": [\n    {\n      \"column\": \"id\",\n      \"properties\": {\n        \"dtype\": \"category\",\n        \"num_unique_values\": 1222,\n        \"samples\": [\n          1.1183643563314135e+18,\n          1.1183472761396756e+18,\n          1.1183783024593388e+18\n        ],\n        \"semantic_type\": \"\",\n        \"description\": \"\"\n      }\n    },\n    {\n      \"column\": \"created_at\",\n      \"properties\": {\n        \"dtype\": \"category\",\n        \"num_unique_values\": 4515,\n        \"samples\": [\n          \"Mon Apr 15 20:53:20 +0000 2019\",\n          \"Mon Apr 15 14:11:43 +0000 2019\",\n          \"Tue Apr 16 01:48:52 +0000 2019\"\n        ],\n        \"semantic_type\": \"\",\n        \"description\": \"\"\n      }\n    },\n    {\n      \"column\": \"source\",\n      \"properties\": {\n        \"dtype\": \"category\",\n        \"num_unique_values\": 59,\n        \"samples\": [\n          \"<a href=\\\"http://twitter.com\\\" rel=\\\"nofollow\\\">Twitter Web Client</a>\",\n          \"<a href=\\\"https://twitter.com/WeTamilans\\\" rel=\\\"nofollow\\\">Tamil_BOT</a>\",\n          \"<a href=\\\"https://www.socialmediaroc.com\\\" rel=\\\"nofollow\\\">Tweet Machine SMROC</a>\"\n        ],\n        \"semantic_type\": \"\",\n        \"description\": \"\"\n      }\n    },\n    {\n      \"column\": \"original_text\",\n      \"properties\": {\n        \"dtype\": \"category\",\n        \"num_unique_values\": 2518,\n        \"samples\": [\n          \"Read #India71 Story | @_India71 | #India | \\r\\n\\r\\n#SushilModi to file defamation case against #RahulGandhi\\r\\n\\r\\nhttps://t.co/VRXLP1lDOz\",\n          \"@tjoseph0010 Truer words have not been said. I wonder if #BJP, #RSS, #VHP, and affiliates have cultivated this hatr\\u2026 https://t.co/jSExO25Haj\",\n          \"What do #RahulGandhi has to say now for lying to people of this country and #SupremeCourt? Horrible attitude to win election\"\n        ],\n        \"semantic_type\": \"\",\n        \"description\": \"\"\n      }\n    },\n    {\n      \"column\": \"lang\",\n      \"properties\": {\n        \"dtype\": \"category\",\n        \"num_unique_values\": 2,\n        \"samples\": [\n          \"lang\",\n          \"en\"\n        ],\n        \"semantic_type\": \"\",\n        \"description\": \"\"\n      }\n    },\n    {\n      \"column\": \"favorite_count\",\n      \"properties\": {\n        \"dtype\": \"category\",\n        \"num_unique_values\": 81,\n        \"samples\": [\n          \"33\",\n          0.0\n        ],\n        \"semantic_type\": \"\",\n        \"description\": \"\"\n      }\n    },\n    {\n      \"column\": \"retweet_count\",\n      \"properties\": {\n        \"dtype\": \"category\",\n        \"num_unique_values\": 159,\n        \"samples\": [\n          2457.0,\n          \"185\"\n        ],\n        \"semantic_type\": \"\",\n        \"description\": \"\"\n      }\n    },\n    {\n      \"column\": \"original_author\",\n      \"properties\": {\n        \"dtype\": \"category\",\n        \"num_unique_values\": 3653,\n        \"samples\": [\n          \"AmolGKirtikar\",\n          \"Arisonu2\"\n        ],\n        \"semantic_type\": \"\",\n        \"description\": \"\"\n      }\n    },\n    {\n      \"column\": \"possibly_sensitive\",\n      \"properties\": {\n        \"dtype\": \"category\",\n        \"num_unique_values\": 5,\n        \"samples\": [\n          true,\n          \"possibly_sensitive\"\n        ],\n        \"semantic_type\": \"\",\n        \"description\": \"\"\n      }\n    },\n    {\n      \"column\": \"hashtags\",\n      \"properties\": {\n        \"dtype\": \"category\",\n        \"num_unique_values\": 947,\n        \"samples\": [\n          \"AmbedkarJayanti, Modi, Mayawati, BhimraoAmbedkar, RahulGandhi\",\n          \"RahulGandhi, Nyay\"\n        ],\n        \"semantic_type\": \"\",\n        \"description\": \"\"\n      }\n    },\n    {\n      \"column\": \"user_mentions\",\n      \"properties\": {\n        \"dtype\": \"category\",\n        \"num_unique_values\": 825,\n        \"samples\": [\n          \"TaraRRichter\",\n          \"being__hitesh, spectatorindex, INCIndia\"\n        ],\n        \"semantic_type\": \"\",\n        \"description\": \"\"\n      }\n    },\n    {\n      \"column\": \"place\",\n      \"properties\": {\n        \"dtype\": \"category\",\n        \"num_unique_values\": 1378,\n        \"samples\": [\n          \"Anna Anna Nagar Chennai\",\n          \"Globe\"\n        ],\n        \"semantic_type\": \"\",\n        \"description\": \"\"\n      }\n    },\n    {\n      \"column\": \"cleaned_text\",\n      \"properties\": {\n        \"dtype\": \"category\",\n        \"num_unique_values\": 1988,\n        \"samples\": [\n          \"The opposition Congress HimachalPradesh announced hold statewide protests April 16 `` obscene slur\\u2026 https //t.co/k9BFGNxxaZ\",\n          \"RT UdhayrajS BJP Horoscope current Jupiter movement around Sun Aires amp Sun Taurus helping well favourable al\\u2026\"\n        ],\n        \"semantic_type\": \"\",\n        \"description\": \"\"\n      }\n    },\n    {\n      \"column\": \"sentiment\",\n      \"properties\": {\n        \"dtype\": \"category\",\n        \"num_unique_values\": 420,\n        \"samples\": [\n          \"Sentiment(polarity=0.45, subjectivity=0.8833333333333333)\",\n          \"Sentiment(polarity=-0.95, subjectivity=0.975)\"\n        ],\n        \"semantic_type\": \"\",\n        \"description\": \"\"\n      }\n    },\n    {\n      \"column\": \"polarity\",\n      \"properties\": {\n        \"dtype\": \"number\",\n        \"std\": 0,\n        \"min\": 0,\n        \"max\": 1,\n        \"num_unique_values\": 2,\n        \"samples\": [\n          0,\n          1\n        ],\n        \"semantic_type\": \"\",\n        \"description\": \"\"\n      }\n    },\n    {\n      \"column\": \"subjectivity\",\n      \"properties\": {\n        \"dtype\": \"number\",\n        \"std\": 0.3284296254584723,\n        \"min\": 0.0,\n        \"max\": 1.0,\n        \"num_unique_values\": 167,\n        \"samples\": [\n          0.2694444444444444,\n          0.501058201058201\n        ],\n        \"semantic_type\": \"\",\n        \"description\": \"\"\n      }\n    },\n    {\n      \"column\": \"clean_text\",\n      \"properties\": {\n        \"dtype\": \"category\",\n        \"num_unique_values\": 405,\n        \"samples\": [\n          \"'s best unbiased anchor aajtak HBDChiyaanVikram MahavirJayanti WednesdayWisdom\\u2026 https //t.co/GsQ19Ox0sY\",\n          \"INCIndia RahulGandhi saw ur advertise _PVRCinemas ur advertise funny movie itself..\\u2026 https //t.co/UDr91bPyjx\"\n        ],\n        \"semantic_type\": \"\",\n        \"description\": \"\"\n      }\n    }\n  ]\n}"
            }
          },
          "metadata": {},
          "execution_count": 149
        }
      ]
    },
    {
      "cell_type": "markdown",
      "source": [
        "So far we have collected the dat , cleaned the data to make it earier to process.Established sentiment using polarity and subjectivity.Removed all the neutrel tweets from our dataset and resampled our data to remove bias.Then combined the two datasets of BJP and CONGRESS data into a single data file(election.csv)"
      ],
      "metadata": {
        "id": "9IHGhVE9Etj0"
      }
    },
    {
      "cell_type": "markdown",
      "source": [
        "### **Visualising Our Dataset**"
      ],
      "metadata": {
        "id": "DxyMz7z33cQa"
      }
    },
    {
      "cell_type": "code",
      "source": [
        "bjp_data = pd.read_csv('/content/BJP_data.csv')\n",
        "bjp_data_jan = pd.read_csv('/content/BJP_data_jan.csv')\n",
        "combined_bjp_data = pd.concat([bjp_data, bjp_data_jan], ignore_index=True)\n",
        "\n",
        "congress_data = pd.read_csv('/content/Congress_data.csv')\n",
        "congress_data_jan = pd.read_csv('/content/Congress_data_jan.csv')\n",
        "combined_congress_data = pd.concat([congress_data, congress_data_jan], ignore_index=True)\n",
        "\n",
        "bjp_tweet_count = len(combined_bjp_data)\n",
        "congress_tweet_count = len(combined_congress_data)\n",
        "\n",
        "parties = ['BJP', 'Congress']\n",
        "tweet_counts = [bjp_tweet_count, congress_tweet_count]\n",
        "\n",
        "plt.figure(figsize=(8, 6))\n",
        "plt.bar(parties, tweet_counts, color=['orange', 'blue'])\n",
        "plt.xlabel('Political Party')\n",
        "plt.ylabel('Number of Tweets')\n",
        "plt.title('Number of totoal Tweets for BJP and Congress')\n",
        "\n",
        "for i, count in enumerate(tweet_counts):\n",
        "    plt.text(i, count, str(count), ha='center', va='bottom')\n",
        "\n",
        "plt.show()\n"
      ],
      "metadata": {
        "colab": {
          "base_uri": "https://localhost:8080/",
          "height": 564
        },
        "id": "Xm_qnfjLAIkf",
        "outputId": "05600579-6f57-412a-cef3-9a32fb568c32"
      },
      "execution_count": 150,
      "outputs": [
        {
          "output_type": "display_data",
          "data": {
            "text/plain": [
              "<Figure size 800x600 with 1 Axes>"
            ],
            "image/png": "[encoded data removed]"
          },
          "metadata": {}
        }
      ]
    },
    {
      "cell_type": "code",
      "source": [
        "bjp_df = pd.read_csv('/content/bjp_final.csv')\n",
        "congress_df = pd.read_csv('/content/congress_final.csv')\n",
        "\n",
        "\n",
        "bjp_tweet_count = len(bjp_df)\n",
        "congress_tweet_count = len(congress_df)\n",
        "\n",
        "parties = ['BJP', 'Congress']\n",
        "tweet_counts = [bjp_tweet_count, congress_tweet_count]\n",
        "\n",
        "plt.figure(figsize=(8, 6))\n",
        "plt.bar(parties, tweet_counts, color=['orange', 'blue'])\n",
        "plt.xlabel('Political Party')\n",
        "plt.ylabel('Number of Tweets')\n",
        "plt.title('Number of  Non-neutrel Tweets for BJP and Congress')\n",
        "\n",
        "for i, count in enumerate(tweet_counts):\n",
        "    plt.text(i, count, str(count), ha='center', va='bottom')\n",
        "\n",
        "plt.show()\n"
      ],
      "metadata": {
        "colab": {
          "base_uri": "https://localhost:8080/",
          "height": 564
        },
        "id": "3lWfTIXZAgNG",
        "outputId": "fdeacf48-7bbc-4b16-cbc2-d73591a31053"
      },
      "execution_count": 151,
      "outputs": [
        {
          "output_type": "display_data",
          "data": {
            "text/plain": [
              "<Figure size 800x600 with 1 Axes>"
            ],
            "image/png": "[encoded data removed]"
          },
          "metadata": {}
        }
      ]
    },
    {
      "cell_type": "code",
      "source": [
        "bjp_df = pd.read_csv('/content/bjp_final.csv')\n",
        "congress_df = pd.read_csv('/content/congress_final.csv')\n",
        "\n",
        "#Subjectivity Distribution\n",
        "plt.figure(figsize=(10, 6))\n",
        "sns.kdeplot(bjp_df['subjectivity'], label='BJP', color='orange', fill=True)\n",
        "sns.kdeplot(congress_df['subjectivity'], label='Congress', color='blue', fill=True)\n",
        "plt.title('Distribution of Subjectivity')\n",
        "plt.xlabel('Subjectivity')\n",
        "plt.ylabel('Density')\n",
        "plt.legend()\n",
        "plt.show()\n",
        "\n",
        "\n"
      ],
      "metadata": {
        "colab": {
          "base_uri": "https://localhost:8080/",
          "height": 564
        },
        "id": "mmDLlsEgDi-a",
        "outputId": "6a73d2d0-4003-4d8b-8cf6-bab8e817a410"
      },
      "execution_count": 152,
      "outputs": [
        {
          "output_type": "display_data",
          "data": {
            "text/plain": [
              "<Figure size 1000x600 with 1 Axes>"
            ],
            "image/png": "[encoded data removed]"
          },
          "metadata": {}
        }
      ]
    }
  ]
}